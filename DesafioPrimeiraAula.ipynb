{
  "nbformat": 4,
  "nbformat_minor": 0,
  "metadata": {
    "colab": {
      "name": "DesafioPrimeiraAula.ipynb",
      "provenance": [],
      "collapsed_sections": [],
      "authorship_tag": "ABX9TyOvPGPIDg3sDKVOqags/9zb",
      "include_colab_link": true
    },
    "kernelspec": {
      "name": "python3",
      "display_name": "Python 3"
    },
    "language_info": {
      "name": "python"
    }
  },
  "cells": [
    {
      "cell_type": "markdown",
      "metadata": {
        "id": "view-in-github",
        "colab_type": "text"
      },
      "source": [
        "<a href=\"https://colab.research.google.com/github/cesarmakiolke/PythonCurso/blob/main/DesafioPrimeiraAula.ipynb\" target=\"_parent\"><img src=\"https://colab.research.google.com/assets/colab-badge.svg\" alt=\"Open In Colab\"/></a>"
      ]
    },
    {
      "cell_type": "code",
      "execution_count": null,
      "metadata": {
        "colab": {
          "base_uri": "https://localhost:8080/"
        },
        "id": "uWaT-zJuCRiC",
        "outputId": "cbb5d886-9bcc-44f3-875d-dd24ed2999e5"
      },
      "outputs": [
        {
          "output_type": "stream",
          "name": "stdout",
          "text": [
            "Informe um numero: 2\n",
            "Informe outro numero: 3\n",
            "A soma dos números e  5  a multiplicação dos números é  6  o quadrado dos números é  4   9\n"
          ]
        }
      ],
      "source": [
        "#1. Elabore os códigos em Python dos problemas a seguir:\n",
        "#a. tenha como entrada dois números e exiba a sua soma.\n",
        "#b. tenha como entrada dois números e exiba a sua multiplicação.\n",
        "#c. tenha como entrada um número e exiba o seu quadrado.\"\"\"\n",
        "\n",
        "#int a, b, soma, mult, quad\n",
        "\n",
        "a = int(input('Informe um numero: '))\n",
        "b = int(input('Informe outro numero: '))\n",
        "soma = a+b \n",
        "mult = a*b\n",
        "quad1 = a*a\n",
        "quad2 = b*b\n",
        "\n",
        "print(\"A soma dos números é \", soma, \" a multiplicação dos números é \", mult, \"e o quadrado dos números é \", quad1, \" e \", quad2)\n",
        "\n"
      ]
    },
    {
      "cell_type": "code",
      "source": [
        "\"\"\"2. Elabore os códigos em Python dos problemas a seguir:\n",
        "a. Maçãs verdes custam R$ 12,20 por quilo. Cada uma pesa em torno de\n",
        "130g. Faça um programa que tenha como entrada a quantidade de\n",
        "maçãs e mostre o valor em reais.\"\"\"\n",
        "\n",
        "nummacas = int(input(\"Informe o número de maçãs que voce deseja comprar: \"))\n",
        "peso = nummacas*0.13\n",
        "preco = peso *12.2\n",
        "\n",
        "print(\"O valor da compra das suas maçãs é de \", preco)"
      ],
      "metadata": {
        "colab": {
          "base_uri": "https://localhost:8080/"
        },
        "id": "Mz1rdgxpibdh",
        "outputId": "71f52f32-1cc0-4b09-cf18-ac501a7dd3b5"
      },
      "execution_count": null,
      "outputs": [
        {
          "output_type": "stream",
          "name": "stdout",
          "text": [
            "Informe o número de maçãs que voce deseja comprar: 5\n",
            "O valor da compra das suas maçãs é de  7.93\n"
          ]
        }
      ]
    },
    {
      "cell_type": "code",
      "source": [
        "\"\"\"b. Ler as notas da 1a. e 2a. avaliações de um aluno. Calcular a\n",
        "média aritmética simples e escrever a média calculada.\"\"\"\n",
        "\n",
        "not1 = int(input(\"informe a nota da primeira prova: \"))\n",
        "not2 = int(input(\"informe a nota da segunda prova: \"))\n",
        "\n",
        "print(\"A média das notas do aluno é \", (not1+not2)/2)"
      ],
      "metadata": {
        "colab": {
          "base_uri": "https://localhost:8080/"
        },
        "id": "MTt9JEIVjOwy",
        "outputId": "606063e5-2fb0-47d4-a87a-747fbbac50be"
      },
      "execution_count": null,
      "outputs": [
        {
          "output_type": "stream",
          "name": "stdout",
          "text": [
            "informe a nota da primeira prova: 8\n",
            "informe a nota da segunda prova: 6\n",
            "A média das notas do aluno é  7.0\n"
          ]
        }
      ]
    },
    {
      "cell_type": "code",
      "source": [
        "1\"\"\"c. A jornada de trabalho semanal de um funcionário é de até 40\n",
        "horas. Escreva um algoritmo que leia o número de horas\n",
        "trabalhadas em cada semana, o salário por hora e escreva o\n",
        "salário total do mês do funcionário (considere que o mês possua 4\n",
        "semanas exatas).\"\"\"\n",
        "\n",
        "salh = float(input(\"Informe o salário por hora do funcionário: \"))\n",
        "sem1= int(input(\"Informe o númer de horas que ele trabalhou na 1ª semana: \"))\n",
        "sem2= int(input(\"Informe o númer de horas que ele trabalhou na 2ª semana: \"))\n",
        "sem3= int(input(\"Informe o númer de horas qque ele trabalhou na 3ª semana: \"))\n",
        "sem4 = int(input(\"Informe o númer de horas qque ele trabalhou na 4ª semana: \"))\n",
        "stotal = (sem1+sem2+sem3+sem4) * salh\n",
        "print(\"O salário mensal desse funcionário neste mês será de \", stotal)"
      ],
      "metadata": {
        "colab": {
          "base_uri": "https://localhost:8080/"
        },
        "id": "vgtgpSqKj0R_",
        "outputId": "901c9cc1-7b61-4976-a26f-6c9be07edd6b"
      },
      "execution_count": null,
      "outputs": [
        {
          "output_type": "stream",
          "name": "stdout",
          "text": [
            "Informe o salário por hora do funcionário: 100\n",
            "Informe o númer de horas que ele trabalhou na 1ª semana: 10\n",
            "Informe o númer de horas que ele trabalhou na 2ª semana: 10\n",
            "Informe o númer de horas qque ele trabalhou na 3ª semana: 0\n",
            "Informe o númer de horas qque ele trabalhou na 4ª semana: 10\n",
            "O salário mensal desse funcionário neste mês será de  3000.0\n"
          ]
        }
      ]
    },
    {
      "cell_type": "code",
      "source": [
        "\"\"\". Elabore os códigos em Python dos problemas a seguir:\n",
        "a. A medida de eficiência de um carro é medida em km/l (quantos km o\n",
        "carro anda com 1 litro de combustível). Faça um algoritmo que\n",
        "calcule a eficiência de um carro tendo como entrada a distância\n",
        "percorrida e a quantidade de combustível gasta em litros.\"\"\"\n",
        "\n",
        "dist = float(input(\"Informe o número de km q você percorreu: \"))\n",
        "\n",
        "lit = float(input(\"Informe a quantidade de litros gasta: \"))\n",
        "\n",
        "texto = \"A eficiência do seu carro é de \"\n",
        "\n",
        "print(texto , dist/lit, \"km/litro\")\n",
        "\n"
      ],
      "metadata": {
        "id": "bs3z2GzOUBpu",
        "colab": {
          "base_uri": "https://localhost:8080/"
        },
        "outputId": "b1951e3e-c5c7-46b6-f3fb-5a7aa8fa57be"
      },
      "execution_count": null,
      "outputs": [
        {
          "output_type": "stream",
          "name": "stdout",
          "text": [
            "Informe o número de km q você percorreu10\n",
            "Informe a quantidade de litros gasta1\n",
            "A eficiência do seu carro é de  10.0 km/litro\n"
          ]
        }
      ]
    },
    {
      "cell_type": "code",
      "source": [
        "\"\"\"b. Atualmente existem os carros flex, ou seja, podem ser abastecidos\n",
        "com etanol ou gasolina. Geralmente um carro flex abastecido a\n",
        "etanol tem uma eficiência menor do mesmo abastecido com gasolina.\n",
        "Faça um algoritmo que tendo como entrada: eficiência do carro\n",
        "abastecido à gasolina (em km/l), eficiência do carro abastecido\n",
        "com etanol (em km/l) , preço da gasolina por litro e preço do\n",
        "etanol por litro e mostre o valor do km rodado com cada um dos\n",
        "combustíveis.\"\"\"\n",
        "\n",
        "et = float(input(\"Informe a eficiência do carro movido à etanol: \"))\n",
        "\n",
        "gas = float(input(\"Informe a eficiência do carro movido à gasolina: \"))\n",
        "\n",
        "pgas = gas/7.09\n",
        "pet = et/5.69\n",
        "\n",
        "print(\"O preço por km rodado à alcool é de \", pet, \" enquanto o preço d km rodado à gasolina é de \", pgas)"
      ],
      "metadata": {
        "colab": {
          "base_uri": "https://localhost:8080/"
        },
        "id": "8_Ab4NdfQAUM",
        "outputId": "546a1b48-cd5f-4419-dc16-23cce796ba94"
      },
      "execution_count": null,
      "outputs": [
        {
          "output_type": "stream",
          "name": "stdout",
          "text": [
            "Informe a eficiência do carro movido à etanol5.69\n",
            "Informe a eficiência do carro movido à gasolina7.09\n",
            "O preço por km rodado à alcool é de  1.0  enquanto o preço d km rodado à gasolina é de  1.0\n"
          ]
        }
      ]
    }
  ]
}