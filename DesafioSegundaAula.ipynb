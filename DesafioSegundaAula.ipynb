{
  "nbformat": 4,
  "nbformat_minor": 0,
  "metadata": {
    "colab": {
      "name": "DesafioSegundaAula.ipynb",
      "provenance": [],
      "collapsed_sections": [],
      "authorship_tag": "ABX9TyP0Cf83MgO6uXM0q7A+f6fH",
      "include_colab_link": true
    },
    "kernelspec": {
      "name": "python3",
      "display_name": "Python 3"
    },
    "language_info": {
      "name": "python"
    }
  },
  "cells": [
    {
      "cell_type": "markdown",
      "metadata": {
        "id": "view-in-github",
        "colab_type": "text"
      },
      "source": [
        "<a href=\"https://colab.research.google.com/github/cesarmakiolke/PythonCurso/blob/main/DesafioSegundaAula.ipynb\" target=\"_parent\"><img src=\"https://colab.research.google.com/assets/colab-badge.svg\" alt=\"Open In Colab\"/></a>"
      ]
    },
    {
      "cell_type": "code",
      "execution_count": 46,
      "metadata": {
        "id": "9az_SzDs1pPb",
        "colab": {
          "base_uri": "https://localhost:8080/"
        },
        "outputId": "17cd8abc-3573-4f3b-b0ae-98f5f78ab2ae"
      },
      "outputs": [
        {
          "output_type": "stream",
          "name": "stdout",
          "text": [
            "Informe o primeiro número para divisão: 5\n",
            "Informe o segundo número: 0\n",
            "Não é possível dividir por 0, informe outro número.\n",
            "Informe outro número: 1\n",
            "A divisão primeiro pelo segundo número é  5.0\n"
          ]
        }
      ],
      "source": [
        "\"\"\"1. Elabore os códigos em Python dos problemas a seguir:\n",
        "a. tenha como entrada dois números e exiba a sua divisão. Lembre-se\n",
        "que não é possível dividir por 0!\"\"\"\n",
        "\n",
        "\n",
        "\n",
        "\n",
        "a = float(input(\"Informe o primeiro número para divisão: \"))\n",
        "b = float(input(\"Informe o segundo número que será o denominador: \"))\n",
        "if b ==0:\n",
        "  print(\"Não é possível dividir por 0, informe outro número.\")\n",
        "  b = float(input(\"Informe outro número: \"))\n",
        "divisao = a/b\n",
        "print(\"A divisão primeiro pelo segundo número é \", divisao)"
      ]
    },
    {
      "cell_type": "code",
      "source": [
        "\"\"\"b. Ler uma nota de 0 à 10 de um aluno. Caso o usuário digite um\n",
        "valor inválido, mostrar a mensagem: &quot;Nota inválida! Digite um\n",
        "valor de 0 à 10!&quot;\"\"\"\n",
        "\n",
        "nota = float(input(\"Digite a nota do aluno na prova: \"))\n",
        "\n",
        "if nota> 10:\n",
        "  print(\" Nota inválida! Digite um valor de 0 à 10!\")\n",
        "  nota = float(input(\"Digite a nota do aluno na prova\"))\n",
        "elif nota<0:\n",
        "  print(\" Nota inválida! Digite um valor de 0 à 10!\")\n",
        "  nota = float(input(\"Digite a nota do aluno na prova: \"))\n",
        "\n",
        "print(\"A nota do aluno é \", nota)"
      ],
      "metadata": {
        "colab": {
          "base_uri": "https://localhost:8080/"
        },
        "id": "cMGEgIOHNNB3",
        "outputId": "7850d148-e1b5-4ad7-f5bc-e5dd5b520e52"
      },
      "execution_count": 18,
      "outputs": [
        {
          "output_type": "stream",
          "name": "stdout",
          "text": [
            "Digite a nota do aluno na prova: -4\n",
            " Nota inválida! Digite um valor de 0 à 10!\n",
            "Digite a nota do aluno na prova: 0\n",
            "A nota do aluno é  0.0\n"
          ]
        }
      ]
    },
    {
      "cell_type": "code",
      "source": [
        "\"\"\"c. leia um número e mostre se ele é positivo ou negativo ou zero.\"\"\"\n",
        "num = int(input(\"Informe o número para analisarmos: \"))\n",
        "\n",
        "if num >0:\n",
        "  print(\"Esse número é positivo\")\n",
        "elif num<0:\n",
        "  print(\"Esse número é negativo\")\n",
        "elif num==0:\n",
        "  print(\"Esse número é zero\")\n"
      ],
      "metadata": {
        "colab": {
          "base_uri": "https://localhost:8080/"
        },
        "id": "_-oJ3qZWPX7i",
        "outputId": "731d8906-b945-48ac-d6a3-32d20f47092d"
      },
      "execution_count": 23,
      "outputs": [
        {
          "output_type": "stream",
          "name": "stdout",
          "text": [
            "Informe o número para analisarmos: 0\n",
            "Esse número é zero\n"
          ]
        }
      ]
    },
    {
      "cell_type": "code",
      "source": [
        "#d. Ler 3 valores e escrever o maior deles.\"\"\"\n",
        "a = int(input(\"Escreva um número: \"))\n",
        "b = int(input(\"Escreva um número: \"))\n",
        "c = int(input(\"Escreva um número: \"))\n",
        "\n",
        "if a>b>c:\n",
        "  print(a)\n",
        "elif a>c>b:\n",
        "  print(a)\n",
        "elif b>c>a:\n",
        "  print(b)\n",
        "elif b>a>c:\n",
        "  print(b)\n",
        "elif c>a>b:\n",
        "  print(c)\n",
        "elif c>b>a:\n",
        "  print(c)\n"
      ],
      "metadata": {
        "colab": {
          "base_uri": "https://localhost:8080/"
        },
        "id": "qXLnFd71QDtx",
        "outputId": "6cf97bdf-a1ed-4059-f7af-1efb88bf8b41"
      },
      "execution_count": 28,
      "outputs": [
        {
          "output_type": "stream",
          "name": "stdout",
          "text": [
            "Escreva um número2\n",
            "Escreva um número3\n",
            "Escreva um número1\n",
            "3\n"
          ]
        }
      ]
    },
    {
      "cell_type": "code",
      "source": [
        "\"\"\"2. Elabore os códigos em Python dos problemas a seguir:\n",
        "a. As maçãs de um mercado custam R$ 1,30 cada se forem compradas\n",
        "menos de uma dúzia, e R$ 1,00 se forem compradas pelo menos 12.\n",
        "Escreva um programa que leia o número de maçãs compradas, calcule\n",
        "e escreva o custo total da compra.\"\"\"\n",
        "\n",
        "macas = int(input(\"Informe o número de maçãs que vai querer: \"))\n",
        "\n",
        "if macas<12:\n",
        "  preco = macas*1.3\n",
        "  print(\"O preço das maçãs será de \", preco)\n",
        "\n",
        "elif macas>=12:\n",
        "  preco = macas*1\n",
        "  print(\"O preço das maçãs será de \", preco)"
      ],
      "metadata": {
        "colab": {
          "base_uri": "https://localhost:8080/"
        },
        "id": "CcysUywqXFg2",
        "outputId": "1e20e292-3edc-4676-b628-b0779806671f"
      },
      "execution_count": 36,
      "outputs": [
        {
          "output_type": "stream",
          "name": "stdout",
          "text": [
            "Informe o número de maçãs que vai querer: 20\n",
            "O preço das maçãs será de  20\n"
          ]
        }
      ]
    },
    {
      "cell_type": "code",
      "source": [
        "\"\"\"b. Ler as notas da 1ª e 2ª avaliações de um aluno. Calcular a média\n",
        "aritmética simples e escrever uma mensagem que diga se o aluno\n",
        "foi ou não aprovado (considerar que nota igual ou maior que 6\n",
        "aluno é aprovado). Escrever também a média calculada.\"\"\"\n",
        "\n",
        "not1 = int(input(\"informe a nota da primeira prova: \"))\n",
        "not2 = int(input(\"informe a nota da segunda prova: \"))\n",
        "media = (not1+not2)/2\n",
        "\n",
        "if media<6 :\n",
        "  print(\"Sua média foi de \", media, \"por isso você está reprovado. Nos vemos de novo ano que vem\")\n",
        "\n",
        "if media>=6 :\n",
        "  print(\"Sua média foi de \", media, \" por isso você está aprovado. Parabéns!\")\n",
        "\n",
        "#print(\"A média das notas do aluno é \", media)\n",
        "\n"
      ],
      "metadata": {
        "colab": {
          "base_uri": "https://localhost:8080/"
        },
        "id": "nWXAM3n2YZVW",
        "outputId": "f44f1f53-2b51-43ee-a4f8-e2786bf2fe3f"
      },
      "execution_count": 38,
      "outputs": [
        {
          "output_type": "stream",
          "name": "stdout",
          "text": [
            "informe a nota da primeira prova: 8\n",
            "informe a nota da segunda prova: 9\n",
            "Sua média foi de  8.5  por isso você está aprovado\n",
            "A média das notas do aluno é  8.5\n"
          ]
        }
      ]
    },
    {
      "cell_type": "code",
      "source": [
        "\"\"\"c. A jornada de trabalho mensal de um funcionário na empresa X é de\n",
        "160 horas. O funcionário que trabalhar mais de 160 horas receberá\n",
        "hora extra, cujo cálculo é o valor da hora regular com um\n",
        "acréscimo de 50%. Escreva um algoritmo que leia o número de horas\n",
        "trabalhadas em um mês, o salário por hora e escreva o salário\n",
        "total do funcionário, que deverá ser acrescido das horas extras,\n",
        "caso tenham sido trabalhadas.\"\"\"\n",
        "\n",
        "hrtrab = int(input(\"Informe o número de horas que o funcionário trabalhou neste mês: \"))\n",
        "salhr = float(input(\"Informe o valor da hora de serviços do funcionário: \"))\n",
        "\n",
        "if hrtrab<=160:\n",
        "  salario = salhr*hrtrab\n",
        "  print(\" O salário do funcionário neste mês será de: \", salario)\n",
        "elif hrtrab>160:\n",
        "  hrextra = hrtrab-160\n",
        "  salario = (160*salhr) + (hrextra *(salhr*1.5))\n",
        "  print(\" O salário do funcionário neste mês será de: \", salario)"
      ],
      "metadata": {
        "colab": {
          "base_uri": "https://localhost:8080/"
        },
        "id": "7hD7OqXYYcUO",
        "outputId": "a2810466-fa08-412c-b9b0-0c69a8fa80ea"
      },
      "execution_count": 41,
      "outputs": [
        {
          "output_type": "stream",
          "name": "stdout",
          "text": [
            "Informe o número de horas que o funcionário trabalhou neste mês: 200\n",
            "Informe o valor da hora de serviços do funcionário: 1\n",
            " O salário do funcionário neste mês será de:  220.0\n"
          ]
        }
      ]
    },
    {
      "cell_type": "code",
      "source": [
        "\"\"\"leia a nota\n",
        "\n",
        ">=9 excelente\n",
        ">= 7 e <9 bom\n",
        ">= 5 <7 razoavel\n",
        "<5 fracp\"\"\"\n",
        "\n",
        "nota = float(input(\"Digite a nota do aluno na prova: \"))\n",
        "\n",
        "if nota>= 9:\n",
        "  print(\"Excelente\")\n",
        "elif nota<9 and nota>=7:\n",
        "  print(\"Bom\")\n",
        "elif nota<7 and nota>=5:\n",
        "    print(\"Razoavel\")\n",
        "elif nota<5:\n",
        "  print(\"Fraco\")"
      ],
      "metadata": {
        "colab": {
          "base_uri": "https://localhost:8080/"
        },
        "id": "2dx-8BvpeSyQ",
        "outputId": "a58423c7-1c7d-41aa-80df-15197f992169"
      },
      "execution_count": 45,
      "outputs": [
        {
          "output_type": "stream",
          "name": "stdout",
          "text": [
            "Digite a nota do aluno na prova: 4\n",
            "Fraco\n"
          ]
        }
      ]
    },
    {
      "cell_type": "code",
      "source": [
        "\"\"\"c. Escreva na tela “Boa Madrugada”, “Bom dia”, “Boa tarde” ou “Boa\n",
        "noite” dependendo da hora do dia que o usuário digitar no\n",
        "teclado. Caso a hora seja inválida mostre: “Erro. Hora inválida”.\n",
        "Opcional: mostre uma imagem diferente para cada alternativa.\"\"\"\n",
        "\n",
        "hora = int(input(\"Digite a hora do dia: \"))\n",
        "if hora >= 0 and hora < 6:\n",
        "  print(\"Boa madrugada\")\n",
        "elif hora >= 6 and hora < 12:\n",
        "  print(\"Bom dia\")\n",
        "elif hora >= 12 and hora < 18:\n",
        "  print(\"Boa tarde\")\n",
        "elif hora >= 18 and hora < 24:\n",
        "  print(\"Boa noite\")\n",
        "else:\n",
        "  print(\"hora inválida.\")"
      ],
      "metadata": {
        "id": "KTQ4h6dQkAZ6"
      },
      "execution_count": null,
      "outputs": []
    }
  ]
}